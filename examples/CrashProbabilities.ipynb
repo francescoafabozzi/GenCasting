{
 "cells": [
  {
   "cell_type": "code",
   "execution_count": 2,
   "id": "7fabacc3-a20b-42eb-be45-e345b3d50ded",
   "metadata": {},
   "outputs": [
    {
     "name": "stdout",
     "output_type": "stream",
     "text": [
      "no change     /gpfs/home/faf32/miniconda/condabin/conda\n",
      "no change     /gpfs/home/faf32/miniconda/bin/conda\n",
      "no change     /gpfs/home/faf32/miniconda/bin/conda-env\n",
      "no change     /gpfs/home/faf32/miniconda/bin/activate\n",
      "no change     /gpfs/home/faf32/miniconda/bin/deactivate\n",
      "no change     /gpfs/home/faf32/miniconda/etc/profile.d/conda.sh\n",
      "no change     /gpfs/home/faf32/miniconda/etc/fish/conf.d/conda.fish\n",
      "no change     /gpfs/home/faf32/miniconda/shell/condabin/Conda.psm1\n",
      "no change     /gpfs/home/faf32/miniconda/shell/condabin/conda-hook.ps1\n",
      "no change     /gpfs/home/faf32/miniconda/lib/python3.10/site-packages/xontrib/conda.xsh\n",
      "no change     /gpfs/home/faf32/miniconda/etc/profile.d/conda.csh\n",
      "no change     /gpfs/home/faf32/.bashrc\n",
      "No action taken.\n",
      "\n",
      "CommandNotFoundError: Your shell has not been properly configured to use 'conda activate'.\n",
      "To initialize your shell, run\n",
      "\n",
      "    $ conda init <SHELL_NAME>\n",
      "\n",
      "Currently supported shells are:\n",
      "  - bash\n",
      "  - fish\n",
      "  - tcsh\n",
      "  - xonsh\n",
      "  - zsh\n",
      "  - powershell\n",
      "\n",
      "See 'conda init --help' for more information and options.\n",
      "\n",
      "IMPORTANT: You may need to close and restart your shell after running 'conda init'.\n",
      "\n",
      "\n"
     ]
    }
   ],
   "source": [
    "!conda init bash\n",
    "!conda activate TokenProbs"
   ]
  },
  {
   "cell_type": "code",
   "execution_count": null,
   "id": "bdd02671-2b37-4b7f-a90c-1bb56cce14ba",
   "metadata": {},
   "outputs": [],
   "source": [
    "from TokenProbs import LogitExtractor"
   ]
  },
  {
   "cell_type": "code",
   "execution_count": null,
   "id": "c1786ab8-ceff-448f-bac0-7ffc4d0447a5",
   "metadata": {},
   "outputs": [],
   "source": []
  }
 ],
 "metadata": {
  "kernelspec": {
   "display_name": "Python 3 (ipykernel)",
   "language": "python",
   "name": "python3"
  },
  "language_info": {
   "codemirror_mode": {
    "name": "ipython",
    "version": 3
   },
   "file_extension": ".py",
   "mimetype": "text/x-python",
   "name": "python",
   "nbconvert_exporter": "python",
   "pygments_lexer": "ipython3",
   "version": "3.11.3"
  }
 },
 "nbformat": 4,
 "nbformat_minor": 5
}
